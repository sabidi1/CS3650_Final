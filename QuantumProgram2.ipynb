{
 "cells": [
  {
   "cell_type": "code",
   "execution_count": 35,
   "metadata": {},
   "outputs": [
    {
     "name": "stdout",
     "output_type": "stream",
     "text": [
      "Random numbers [0, 0, 1, 1, 1, 1, 1, 1, 0, 0]\n"
     ]
    }
   ],
   "source": [
    "from projectq.ops import  H, Measure\n",
    "from projectq import MainEngine\n",
    "\n",
    "\"\"\"\n",
    "This Function creates a new qubit,\n",
    "applies a Hadamard gate to put it in superposition,\n",
    "and then measures the qubit to get a random\n",
    "1 or 0. \n",
    " \n",
    "\"\"\"\n",
    "def get_random_number(quantum_engine):\n",
    "    qubit = quantum_engine.allocate_qubit()\n",
    "    H | qubit\n",
    "    Measure | qubit\n",
    "    random_number = int(qubit)\n",
    "    return random_number\n",
    "\n",
    "# This list is used to store our random numbers\n",
    "random_numbers_list = []\n",
    "# initialises a new quantum backend\n",
    "quantum_engine = MainEngine()\n",
    "# for loop to generate 10 random numbers\n",
    "for i in range(10):\n",
    "    # calling the random number function and append the return to the list\n",
    "    random_numbers_list.append(get_random_number(quantum_engine))\n",
    "# Flushes the quantum engine from memory\n",
    "quantum_engine.flush()\n",
    "print('Random numbers', random_numbers_list)"
   ]
  }
 ],
 "metadata": {
  "kernelspec": {
   "display_name": "Python 3",
   "language": "python",
   "name": "python3"
  },
  "language_info": {
   "codemirror_mode": {
    "name": "ipython",
    "version": 3
   },
   "file_extension": ".py",
   "mimetype": "text/x-python",
   "name": "python",
   "nbconvert_exporter": "python",
   "pygments_lexer": "ipython3",
   "version": "3.7.3"
  }
 },
 "nbformat": 4,
 "nbformat_minor": 2
}
